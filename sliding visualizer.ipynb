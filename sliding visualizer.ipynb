{
 "cells": [
  {
   "cell_type": "markdown",
   "metadata": {},
   "source": [
    "# Sliding-viewer for Keystroke Data Visualization"
   ]
  },
  {
   "cell_type": "code",
   "execution_count": 282,
   "metadata": {},
   "outputs": [],
   "source": [
    "##interactive widget 개발 ##keystroke data visualization\n",
    "\n",
    "#전처리(postprocessing) 완료된 keystroke data 불러오기\n",
    "import pandas as pd\n",
    "dbe=pd.read_csv('/Users/kintch/Downloads/201215_3.csv')\n",
    "#dbe[0:5]\n",
    "\n",
    "wtxt=dbe.whole_text.to_list() # whole text 리스트\n",
    "time=dbe.press_time_from_zero.to_list() # 타임스탬프 리스트\n",
    "time_r=[int(round(x, 1)*10) for x in time] # 타임스탬프 소수 둘째자리까지만 남기고 반올림.\n",
    "\n",
    "#wtxt에서 Nan처리되있는 부분을 None string으로 바꿔주는 로직\n",
    "n=0\n",
    "while n <len(wtxt):\n",
    "    try:\n",
    "        if math.isnan(wtxt[n])==True: #math.isnan  Nan 검색기\n",
    "            wtxt[n]=\"None\" #Nan을 None으로 바꾸자\n",
    "            n+=1\n",
    "        else:\n",
    "            pass\n",
    "            n+=1\n",
    "    except:\n",
    "        pass\n",
    "        n+=1\n",
    "\n",
    "# 시간 x wholetext 쌍 만들기\n",
    "time_x_wtxt={} \n",
    "n=0\n",
    "while n < len(wtxt):\n",
    "    time_x_wtxt[time_r[n]] = wtxt[n]\n",
    "    n+=1\n",
    "time_x_wtxt\n",
    "\n",
    "#비어있는 시간들(0.1초 간격으로)에 이전 시점의 wtxt할당해주기\n",
    "n=time_r[0] # time_r[0]을 시작으로해서\n",
    "a=''\n",
    "while n < time_r[-1] + 1: #끝시간까지\n",
    "    if n in time_x_wtxt: #해당 시간 있으면\n",
    "        a=time_x_wtxt.get(n)\n",
    "        pass\n",
    "    else: #없으면\n",
    "        time_x_wtxt[n]=a #이전꺼가져와\n",
    "    n+=1 # 넘어가(0.1초간격으로 가는거야)\n",
    "#from decimal import Decimal\n",
    "#Decimal('0.1') < Decimal('0.2') #부동소수점 할라다가 단위 그냥 *10해서 키워버림"
   ]
  },
  {
   "cell_type": "code",
   "execution_count": 283,
   "metadata": {},
   "outputs": [],
   "source": [
    "from ipywidgets import Layout, interact, IntSlider\n",
    "from IPython.display import display\n",
    "\n",
    "def f(x):\n",
    "    print(time_x_wtxt.get(x))"
   ]
  },
  {
   "cell_type": "code",
   "execution_count": 284,
   "metadata": {},
   "outputs": [
    {
     "data": {
      "application/vnd.jupyter.widget-view+json": {
       "model_id": "88d35e72d07c41d4aef1826132bc5c4d",
       "version_major": 2,
       "version_minor": 0
      },
      "text/plain": [
       "interactive(children=(IntSlider(value=0, description='x', layout=Layout(width='1000px'), max=3593, step=10), O…"
      ]
     },
     "metadata": {},
     "output_type": "display_data"
    },
    {
     "data": {
      "text/plain": [
       "<function __main__.f(x)>"
      ]
     },
     "execution_count": 284,
     "metadata": {},
     "output_type": "execute_result"
    }
   ],
   "source": [
    "interact(f, x=IntSlider(0, 0, time_r[-1], 10, layout=Layout(width='1000px')))\n",
    "\n",
    "#time_r[-1] 대신 6000 넣으면 10분동안으로 볼 수 있음."
   ]
  }
 ],
 "metadata": {
  "kernelspec": {
   "display_name": "Python 3",
   "language": "python",
   "name": "python3"
  },
  "language_info": {
   "codemirror_mode": {
    "name": "ipython",
    "version": 3
   },
   "file_extension": ".py",
   "mimetype": "text/x-python",
   "name": "python",
   "nbconvert_exporter": "python",
   "pygments_lexer": "ipython3",
   "version": "3.7.6"
  }
 },
 "nbformat": 4,
 "nbformat_minor": 2
}
